{
 "cells": [
  {
   "cell_type": "markdown",
   "metadata": {},
   "source": [
    "<img src=\"https://static.wincacademy.nl/logos/main-logo.png\" height=200px style=\"height: 200px\"/>\n",
    "\n",
    "# Describing Data"
   ]
  },
  {
   "cell_type": "code",
   "execution_count": 1,
   "metadata": {},
   "outputs": [],
   "source": [
    "!pip install matplotlib --user > /dev/null 2>&1\n",
    "!pip install numpy --user > /dev/null 2>&1\n",
    "!pip install pandas --user > /dev/null 2>&1\n",
    "\n",
    "%matplotlib inline\n",
    "import numpy as np\n",
    "import matplotlib.pyplot as plt\n",
    "import pandas as pd"
   ]
  },
  {
   "cell_type": "markdown",
   "metadata": {},
   "source": [
    "Describing a dataset is surprisingly hard. Take this (simulated) data containing total income in 1980 for each of the 100.000 inhabitans of Fooville, for example."
   ]
  },
  {
   "cell_type": "code",
   "execution_count": 2,
   "metadata": {},
   "outputs": [
    {
     "data": {
      "text/html": [
       "<div>\n",
       "<style scoped>\n",
       "    .dataframe tbody tr th:only-of-type {\n",
       "        vertical-align: middle;\n",
       "    }\n",
       "\n",
       "    .dataframe tbody tr th {\n",
       "        vertical-align: top;\n",
       "    }\n",
       "\n",
       "    .dataframe thead th {\n",
       "        text-align: right;\n",
       "    }\n",
       "</style>\n",
       "<table border=\"1\" class=\"dataframe\">\n",
       "  <thead>\n",
       "    <tr style=\"text-align: right;\">\n",
       "      <th></th>\n",
       "      <th>Income</th>\n",
       "    </tr>\n",
       "  </thead>\n",
       "  <tbody>\n",
       "    <tr>\n",
       "      <th>0</th>\n",
       "      <td>56393.46</td>\n",
       "    </tr>\n",
       "    <tr>\n",
       "      <th>1</th>\n",
       "      <td>21882.87</td>\n",
       "    </tr>\n",
       "    <tr>\n",
       "      <th>2</th>\n",
       "      <td>56879.79</td>\n",
       "    </tr>\n",
       "    <tr>\n",
       "      <th>3</th>\n",
       "      <td>54951.14</td>\n",
       "    </tr>\n",
       "    <tr>\n",
       "      <th>4</th>\n",
       "      <td>17316.43</td>\n",
       "    </tr>\n",
       "    <tr>\n",
       "      <th>...</th>\n",
       "      <td>...</td>\n",
       "    </tr>\n",
       "    <tr>\n",
       "      <th>99995</th>\n",
       "      <td>25641.99</td>\n",
       "    </tr>\n",
       "    <tr>\n",
       "      <th>99996</th>\n",
       "      <td>15424.79</td>\n",
       "    </tr>\n",
       "    <tr>\n",
       "      <th>99997</th>\n",
       "      <td>17903.57</td>\n",
       "    </tr>\n",
       "    <tr>\n",
       "      <th>99998</th>\n",
       "      <td>26660.45</td>\n",
       "    </tr>\n",
       "    <tr>\n",
       "      <th>99999</th>\n",
       "      <td>56846.86</td>\n",
       "    </tr>\n",
       "  </tbody>\n",
       "</table>\n",
       "<p>100000 rows × 1 columns</p>\n",
       "</div>"
      ],
      "text/plain": [
       "         Income\n",
       "0      56393.46\n",
       "1      21882.87\n",
       "2      56879.79\n",
       "3      54951.14\n",
       "4      17316.43\n",
       "...         ...\n",
       "99995  25641.99\n",
       "99996  15424.79\n",
       "99997  17903.57\n",
       "99998  26660.45\n",
       "99999  56846.86\n",
       "\n",
       "[100000 rows x 1 columns]"
      ]
     },
     "execution_count": 2,
     "metadata": {},
     "output_type": "execute_result"
    }
   ],
   "source": [
    "income_samples = np.round(np.hstack([np.random.normal(2.5e4, 5e3, int(7e4)),\n",
    "                                     np.random.normal(5.5e4, 4e3, int(2e4)),\n",
    "                                     np.random.normal(9e4, 2e3, int(1e4))]),\n",
    "                          2)\n",
    "income_samples[income_samples < 0] = - income_samples[income_samples < 0]\n",
    "np.random.shuffle(income_samples)\n",
    "\n",
    "pd.DataFrame(income_samples, columns=['Income'])"
   ]
  },
  {
   "cell_type": "markdown",
   "metadata": {},
   "source": [
    "These are 100k datapoints. It's impossible to look at them all one by one. How are we going to interpret that large bag of unsorted data?\n",
    "\n",
    "## Mean\n",
    "\n",
    "One measure we should take a look at is the average, the **mean** of the data. The mean is calculated like so:\n",
    "\n",
    "1. Sum up all the values\n",
    "2. Divide them by the number of datapoints\n",
    "\n",
    "Let's apply this to our data from the inhabitants of Fooville."
   ]
  },
  {
   "cell_type": "code",
   "execution_count": 3,
   "metadata": {},
   "outputs": [
    {
     "name": "stdout",
     "output_type": "stream",
     "text": [
      "The mean income in Fooville is 37507.74\n"
     ]
    }
   ],
   "source": [
    "income_samples_mean = np.mean(income_samples)\n",
    "print(f'The mean income in Fooville is {income_samples_mean:.2f}')"
   ]
  },
  {
   "cell_type": "markdown",
   "metadata": {},
   "source": [
    "**1. What is the mean of this list of numbers? [1, 9, 19, 100]**\n",
    "\n",
    "*TODO: Your answer here.*"
   ]
  },
  {
   "cell_type": "markdown",
   "metadata": {},
   "source": [
    "You, like me, might now be tempted to believe the data looks something like this."
   ]
  },
  {
   "cell_type": "code",
   "execution_count": 4,
   "metadata": {},
   "outputs": [
    {
     "data": {
      "image/png": "[encoded data removed]",
      "text/plain": [
       "<Figure size 432x288 with 1 Axes>"
      ]
     },
     "metadata": {
      "needs_background": "light"
     },
     "output_type": "display_data"
    }
   ],
   "source": [
    "fig, ax = plt.subplots()\n",
    "bin_vals, _, _ = ax.hist([np.random.normal(3.7e4, 5e3, int(10e4))], 100)\n",
    "ax.axvline(3.7e4, label='mean', color='orange')\n",
    "ax.set_xlabel('Income')\n",
    "ax.set_ylabel('Number of people')\n",
    "ax.legend();"
   ]
  },
  {
   "cell_type": "markdown",
   "metadata": {},
   "source": [
    "**2. Explain how we should read this plot in your own words. Discuss specifically why the edge of the plot is not smooth. Hint: it's called a histogram.**\n",
    "\n",
    "*TODO: Your answer here.*\n",
    "\n",
    "**3. Why did we choose to draw the mean as a line, and not as a dot?**\n",
    "\n",
    "*TODO: Your answer here.*\n",
    "\n",
    "**4. How realistic is it that this plot reflects the true situation, given the type of data we are looking at?**\n",
    "\n",
    "*TODO: Your answer here.*"
   ]
  },
  {
   "cell_type": "markdown",
   "metadata": {},
   "source": [
    "Let's take a look at the *real* histogram now."
   ]
  },
  {
   "cell_type": "code",
   "execution_count": 5,
   "metadata": {},
   "outputs": [
    {
     "data": {
      "image/png": "[encoded data removed]",
      "text/plain": [
       "<Figure size 432x288 with 1 Axes>"
      ]
     },
     "metadata": {
      "needs_background": "light"
     },
     "output_type": "display_data"
    }
   ],
   "source": [
    "fig, ax = plt.subplots()\n",
    "ax.set_title('Histogram')\n",
    "ax.hist(income_samples, bins=50)\n",
    "ax.axvline(income_samples_mean, color='orange', label='mean')\n",
    "ax.set_xlabel('Income')\n",
    "ax.set_ylabel('Number of people')\n",
    "ax.set_xlim([0, 1e5])\n",
    "ax.legend();"
   ]
  },
  {
   "cell_type": "markdown",
   "metadata": {},
   "source": [
    "**5. Why is the mean not located at a peak in the histogram?**\n",
    "\n",
    "*TODO: Your answer here.*\n",
    "\n",
    "**6. How can the two plots look so different, even though their mean is the same?**\n",
    "\n",
    "*TODO: Your answer here.*\n",
    "\n",
    "**7. How much useful information does the mean give about the data here, in your opinion? Explain why.**\n",
    "\n",
    "*TODO: Your answer here.*"
   ]
  },
  {
   "cell_type": "markdown",
   "metadata": {},
   "source": [
    "## Median\n"
   ]
  },
  {
   "cell_type": "markdown",
   "metadata": {},
   "source": [
    "An alternative measure that may be more useful is the **median**. The median is the middle value in a sorted list of all the data. Here's how to find the median:\n",
    "\n",
    "1. Sort the data.\n",
    "2. Find the middle number. If there are an even number of datapoints, take the mean of the middle two."
   ]
  },
  {
   "cell_type": "code",
   "execution_count": 6,
   "metadata": {},
   "outputs": [
    {
     "name": "stdout",
     "output_type": "stream",
     "text": [
      "The median income in Fooville is 27868.86\n"
     ]
    }
   ],
   "source": [
    "income_samples_median = np.median(income_samples)\n",
    "print(f'The median income in Fooville is {income_samples_median:.2f}')"
   ]
  },
  {
   "cell_type": "markdown",
   "metadata": {},
   "source": [
    "Let's visualize where it is exactly on our histogram."
   ]
  },
  {
   "cell_type": "code",
   "execution_count": 7,
   "metadata": {},
   "outputs": [
    {
     "data": {
      "image/png": "[encoded data removed]",
      "text/plain": [
       "<Figure size 432x288 with 1 Axes>"
      ]
     },
     "metadata": {
      "needs_background": "light"
     },
     "output_type": "display_data"
    }
   ],
   "source": [
    "fig, ax = plt.subplots()\n",
    "ax.set_title('Histogram')\n",
    "ax.hist(income_samples, bins=50)\n",
    "ax.axvline(income_samples_mean, color='orange', label='mean')\n",
    "ax.axvline(income_samples_median, color='green', label='median')\n",
    "ax.set_xlabel('Income')\n",
    "ax.set_ylabel('Number of people')\n",
    "ax.set_xlim([0, 1e5])\n",
    "ax.legend();"
   ]
  },
  {
   "cell_type": "markdown",
   "metadata": {},
   "source": [
    "**8. Is the median more informative about this dataset, in your opinion? Why? Consider the type of data that you're looking at.**\n",
    "\n",
    "*TODO: Your answer here.*\n",
    "\n",
    "**9. How many people in Fooville have an income below the median? How many have an income above the median?**\n",
    "\n",
    "*TODO: Your answer here.*\n",
    "\n",
    "**10. Which way does the median move if we mirror the data like we did in the bottom plot below? Which way does the mean move? Finally: which one moves more? Explain your answers.**\n",
    "\n",
    "*TODO: Your answer here.*"
   ]
  },
  {
   "cell_type": "code",
   "execution_count": 8,
   "metadata": {},
   "outputs": [
    {
     "data": {
      "image/png": "[encoded data removed]",
      "text/plain": [
       "<Figure size 1152x648 with 2 Axes>"
      ]
     },
     "metadata": {
      "needs_background": "light"
     },
     "output_type": "display_data"
    }
   ],
   "source": [
    "mirrored_income_samples = 0 - income_samples + 1e5\n",
    "\n",
    "fig, axs = plt.subplots(2, 1, figsize=(16,9))\n",
    "axs[0].set_title('Real histogram', loc='left')\n",
    "axs[0].hist(income_samples, bins=50)\n",
    "axs[0].axvline(income_samples_mean, color='orange', label='mean')\n",
    "axs[0].axvline(income_samples_median, color='green', label='median')\n",
    "axs[0].set_xlabel('Income')\n",
    "axs[0].set_ylabel('Number of people')\n",
    "axs[0].set_xlim([0, 1e5])\n",
    "axs[0].legend();\n",
    "axs[1].set_title('Mirrored histogram', loc='left')\n",
    "axs[1].hist(mirrored_income_samples, bins=50)\n",
    "axs[1].set_xlabel('Income')\n",
    "axs[1].set_ylabel('Number of people')\n",
    "axs[1].set_xlim([0, 1e5]);"
   ]
  },
  {
   "cell_type": "markdown",
   "metadata": {},
   "source": [
    "## Mode and binning\n",
    "\n",
    "A third number that gives some information about data is distributed is the **mode**. This is the value that occurs most frequently out of all the values.\n",
    "\n",
    "Let's count how often each number occurs in our (non-mirrored) dataset and see which one occurs most often."
   ]
  },
  {
   "cell_type": "code",
   "execution_count": 9,
   "metadata": {},
   "outputs": [
    {
     "name": "stdout",
     "output_type": "stream",
     "text": [
      "The mode of the income data from Fooville is 18039.02.\n",
      "It occurs 3 times.\n"
     ]
    },
    {
     "data": {
      "image/png": "[encoded data removed]",
      "text/plain": [
       "<Figure size 432x288 with 1 Axes>"
      ]
     },
     "metadata": {
      "needs_background": "light"
     },
     "output_type": "display_data"
    }
   ],
   "source": [
    "unique, frequency = np.unique(income_samples, return_counts = True)\n",
    "income_samples_mode_freq = np.max(frequency)\n",
    "income_samples_mode = unique[np.argmax(frequency)]\n",
    "print(f'The mode of the income data from Fooville is {income_samples_mode:.2f}.\\n'\n",
    "      f'It occurs {income_samples_mode_freq} times.')\n",
    "\n",
    "fig, ax = plt.subplots()\n",
    "ax.set_title('Histogram')\n",
    "ax.hist(income_samples, bins=50)\n",
    "ax.axvline(income_samples_mean, color='orange', label='mean')\n",
    "ax.axvline(income_samples_median, color='green', label='median')\n",
    "ax.axvline(income_samples_mode, color='purple', label='mode?')\n",
    "ax.set_xlabel('Income')\n",
    "ax.set_ylabel('Number of people')\n",
    "ax.set_xlim([0, 1e5])\n",
    "ax.legend();"
   ]
  },
  {
   "cell_type": "markdown",
   "metadata": {},
   "source": [
    "Hm! This does not match with what we learn from our histogram.\n",
    "\n",
    "**11. What level of income would you have expected to be the mode?**\n",
    "\n",
    "*TODO: Your answer here.*\n",
    "\n",
    "**12. What is the problem that caused us to land on a strange value for the mode?**\n",
    "\n",
    "*TODO: Your answer here.*\n",
    "\n",
    "The problem that we have can be solved by *binning* the numbers in our data. Here's how that works:\n",
    "\n",
    "1. Choose a number of *bins*. Think of these like buckets.\n",
    "2. Divide the area between the minimum and maximum values of the data into smaller areas according to the number of bins.\n",
    "3. Look at each datapoint and put it in the bin that it belongs to.\n",
    "4. Count how many datapoints are in each bin.\n",
    "5. Let each bin be represented by the middle value of the bin.\n",
    "\n",
    "Let's do this and find the mode again."
   ]
  },
  {
   "cell_type": "code",
   "execution_count": 24,
   "metadata": {},
   "outputs": [
    {
     "name": "stdout",
     "output_type": "stream",
     "text": [
      "The mode of the income data from Fooville is 24199.07.\n",
      "It occurs 10683 times.\n"
     ]
    },
    {
     "data": {
      "image/png": "[encoded data removed]",
      "text/plain": [
       "<Figure size 432x288 with 1 Axes>"
      ]
     },
     "metadata": {
      "needs_background": "light"
     },
     "output_type": "display_data"
    }
   ],
   "source": [
    "# PLAY AROUND WITH THIS VALUE\n",
    "bins = 50\n",
    "# DON'T MODIFY THE LINES BELOW\n",
    "\n",
    "hist, bin_edges = np.histogram(income_samples, bins=bins)\n",
    "income_samples_mode_freq = np.max(hist)\n",
    "mode_bin_index = np.argmax(hist)\n",
    "income_samples_mode = np.mean(bin_edges[mode_bin_index:mode_bin_index+2])\n",
    "print(f'The mode of the income data from Fooville is {income_samples_mode:.2f}.\\n'\n",
    "      f'It occurs {income_samples_mode_freq} times.')\n",
    "fig, ax = plt.subplots()\n",
    "ax.set_title('Histogram')\n",
    "ax.hist(income_samples, bins=bins)\n",
    "ax.axvline(income_samples_mean, color='orange', label='mean')\n",
    "ax.axvline(income_samples_median, color='green', label='median')\n",
    "ax.axvline(income_samples_mode, color='purple', label='mode')\n",
    "ax.set_xlabel('Income')\n",
    "ax.set_ylabel('Number of people')\n",
    "ax.set_xlim([0, 1e5])\n",
    "ax.legend();"
   ]
  },
  {
   "cell_type": "markdown",
   "metadata": {},
   "source": [
    "**13. How did binning solve the problem you described in your answer to question 12?**\n",
    "\n",
    "*TODO: Your answer here.*\n",
    "\n",
    "**14. Would a bin count of 3 suffice? What about 100? What is the consideration in choosing a higher or lower bin count? And what is the downside of going too far in either direction?**\n",
    "\n",
    "*TODO: Your answer here.*"
   ]
  },
  {
   "cell_type": "markdown",
   "metadata": {},
   "source": [
    "## Quartiles and Boxplots\n",
    "\n",
    "Finally, we will describe our data with a few extra measures:\n",
    "\n",
    "- The min; the lowest value in the dataset.\n",
    "- The max; the highest value in the dataset.\n",
    "- The first quartile; the median of the lower half of the dataset. You find this value by sorting the data and selecting the middle of the lower half.\n",
    "- The third quartile; the median of the upper half of the dataset. You find this value by sorting the data and selecting the middle of the upper half.\n",
    "\n",
    "Together with the median, this is called the *five-number summary*. It is common to visualize these numbers in a type of plot that's called a *boxplot*. Here it is for the Fooville data."
   ]
  },
  {
   "cell_type": "code",
   "execution_count": 11,
   "metadata": {},
   "outputs": [
    {
     "name": "stdout",
     "output_type": "stream",
     "text": [
      "The minimum is at 1823.86\n",
      "The first quartile is at 23198.07\n",
      "The third quartile is at 52293.45\n",
      "The maximum is at 99107.38\n"
     ]
    },
    {
     "data": {
      "image/png": "[encoded data removed]",
      "text/plain": [
       "<Figure size 432x288 with 1 Axes>"
      ]
     },
     "metadata": {
      "needs_background": "light"
     },
     "output_type": "display_data"
    }
   ],
   "source": [
    "fig, ax = plt.subplots()\n",
    "ax.boxplot(income_samples, whis=(0,100))\n",
    "sorted_income_samples = np.sort(income_samples)\n",
    "minimum = np.min(income_samples)\n",
    "maximum = np.max(income_samples)\n",
    "first_quartile = sorted_income_samples[int(sorted_income_samples.shape[0] / 4)]\n",
    "third_quartile = sorted_income_samples[int(3 * sorted_income_samples.shape[0] / 4)]\n",
    "ax.annotate('min', (1, minimum), fontsize='x-large', xytext=(35, 0), textcoords='offset points', arrowprops={'arrowstyle':'fancy'})\n",
    "ax.annotate('max', (1, maximum), fontsize='x-large', xytext=(35, -10), textcoords='offset points', arrowprops={'arrowstyle':'fancy'})\n",
    "ax.annotate('median', (1, income_samples_median), fontsize='x-large', xytext=(35, 0), textcoords='offset points', arrowprops={'arrowstyle':'fancy'})\n",
    "ax.annotate('first quartile', (1, first_quartile), fontsize='x-large', xytext=(35, -10), textcoords='offset points', arrowprops={'arrowstyle':'fancy'})\n",
    "ax.annotate('third quartile', (1, third_quartile), fontsize='x-large', xytext=(35, 0), textcoords='offset points', arrowprops={'arrowstyle':'fancy'})\n",
    "ax.set_ylabel('Income')\n",
    "ax.set_xticks([])\n",
    "\n",
    "print(f'The minimum is at {minimum}')\n",
    "print(f'The first quartile is at {first_quartile}')\n",
    "print(f'The third quartile is at {third_quartile}')\n",
    "print(f'The maximum is at {maximum}')"
   ]
  },
  {
   "cell_type": "markdown",
   "metadata": {},
   "source": [
    "Here is the boxplot again without our annotations."
   ]
  },
  {
   "cell_type": "code",
   "execution_count": 12,
   "metadata": {},
   "outputs": [
    {
     "data": {
      "image/png": "[encoded data removed]",
      "text/plain": [
       "<Figure size 432x288 with 1 Axes>"
      ]
     },
     "metadata": {
      "needs_background": "light"
     },
     "output_type": "display_data"
    }
   ],
   "source": [
    "fig, ax = plt.subplots()\n",
    "ax.boxplot(income_samples, whis=(0,100))\n",
    "ax.set_ylabel('Income')\n",
    "ax.set_xticks([]);"
   ]
  },
  {
   "cell_type": "markdown",
   "metadata": {},
   "source": [
    "**15. How many inhabitants of Fooville have an income above the first quartile?**\n",
    "\n",
    "*TODO: Your answer here.*\n",
    "\n",
    "**16. How many inhabitants of Fooville have an income between the first and third quartile?**\n",
    "\n",
    "*TODO: Your answer here.*\n",
    "\n",
    "**17. Which of the following statements are correct? (type an `x` in those boxes)**\n",
    "\n",
    "*TODO: Fill in the right boxes.*\n",
    "\n",
    "   - [ ] \"25% of all Fooville inhabitants have an income above 20.000\"\n",
    "   - [ ] \"50% of all Fooville inhabitants have an income between around 23.000 and around 52.000\"\n",
    "   - [ ] \"There are no Fooville inhabitants with an income above 98.000.\"\n",
    "\n",
    "**18. Does the mean always fall between the first and third quartile? Explain your answer.**\n",
    "\n",
    "*TODO: Your answer here.*\n",
    "\n",
    "**19. Do you think a boxplot is a nice summary of the Fooville income data? Why? How does it compare to the histogram?**\n",
    "\n",
    "*TODO: Your answer here.*"
   ]
  },
  {
   "cell_type": "markdown",
   "metadata": {},
   "source": [
    "That's it for this lesson! You now have an intuitive understanding of:\n",
    "\n",
    "- The mean\n",
    "- The median\n",
    "- The mode\n",
    "- Binning\n",
    "- Histograms\n",
    "- The minimum and maximum\n",
    "- The first and third quartile\n",
    "- Boxplots\n",
    "\n",
    "Congratulations! That's a lot of material to work through."
   ]
  }
 ],
 "metadata": {
  "kernelspec": {
   "display_name": "Python 3",
   "language": "python",
   "name": "python3"
  },
  "language_info": {
   "codemirror_mode": {
    "name": "ipython",
    "version": 3
   },
   "file_extension": ".py",
   "mimetype": "text/x-python",
   "name": "python",
   "nbconvert_exporter": "python",
   "pygments_lexer": "ipython3",
   "version": "3.9.2"
  }
 },
 "nbformat": 4,
 "nbformat_minor": 4
}
